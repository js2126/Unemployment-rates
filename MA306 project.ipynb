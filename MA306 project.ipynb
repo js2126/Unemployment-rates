{
 "cells": [
  {
   "cell_type": "markdown",
   "metadata": {},
   "source": [
    "# Analysis of unemployment rates in the UK between 1971-2018\n",
    "\n",
    "Unemployment is defined as where a person is within working age and has the ability, but is unable to find and get a job, but would like to have one. \n",
    "\n",
    "There are several reasons why someone could be unemployed such as economic issues happening within the country making the unemployment rates fluctuate up and down in various occasions. "
   ]
  },
  {
   "cell_type": "code",
   "execution_count": 4,
   "metadata": {},
   "outputs": [],
   "source": [
    "a<- read.csv(\"~/Data Science/Resume projects/R/Project 1/UK_unemployment.csv\")\n",
    "b<- read.csv(\"~/Data Science/Resume projects/R/Project 1/UK_unemployment_age_groups.csv\")"
   ]
  },
  {
   "cell_type": "markdown",
   "metadata": {},
   "source": [
    "### Analysis of unemployment rates for the working age population between 1971-2018 by gender\n",
    "\n",
    "Below are the following graphs from UK_Unemployment.csv\n",
    "- A; All 16-64 years old actively looking for work [1971-2018]\n",
    "- B; Females 16-64 years old actively looking for work [1971-2018]\n",
    "- C; Males 16-64 years olds actively looking for work [1971-2018]"
   ]
  },
  {
   "cell_type": "code",
   "execution_count": 20,
   "metadata": {},
   "outputs": [
    {
     "data": {
      "image/png": "[encoded data removed]",
      "text/plain": [
       "Plot with title \"C\""
      ]
     },
     "metadata": {},
     "output_type": "display_data"
    }
   ],
   "source": [
    "par(mfrow = c(2, 2))\n",
    "p1 <- plot(a$X, a$UKAll16_64, col='blue', type=\"l\", xlab=\"Year\", ylab=\"Unemployment rate %\", main=\"A\")\n",
    "p2 <- plot(a$X, a$UKFemale16_64, col='red', type=\"l\", xlab=\"Year\", ylab=\"Unemployment rate %\", main=\"B\")\n",
    "p3 <- plot(a$X, a$UKMale16_64, col='green', type=\"l\", xlab=\"Year\", ylab=\"Unemployment rate %\", main=\"C\")"
   ]
  },
  {
   "cell_type": "markdown",
   "metadata": {},
   "source": [
    "The graphs above show the unemployment rates for 16-64 year olds, where the Unemployment rates sharply increased from mid 1970s to mid 1980s which was due to economic problems within the UK at that time. Unemployment rates peaked twice for women between 1980s and 2000, whereas it only peaked once for men, this might show that there may be some difficulty for women in finding employment in the past or their industries had an oversupply and/or more women began to actively looking for work whereas in previous generations they may preferred to stay at home. \n",
    "\n",
    "In general, unemployment rates tend to higher for women than for men, given men's lowest unemployment rate was between 2000s whereas women's never reached to rates seen in 1970s to 1980s, a factor could be that more women could be employed and actively looking for work which gradually increased the unemployment rates for both women and for all population. "
   ]
  },
  {
   "cell_type": "code",
   "execution_count": 24,
   "metadata": {},
   "outputs": [
    {
     "data": {
      "text/plain": [
       "   Min. 1st Qu.  Median    Mean 3rd Qu.    Max. \n",
       "  3.700   5.300   6.300   7.104   8.650  11.900 "
      ]
     },
     "metadata": {},
     "output_type": "display_data"
    }
   ],
   "source": [
    "summary(a$UKAll16_64)"
   ]
  },
  {
   "cell_type": "code",
   "execution_count": 25,
   "metadata": {},
   "outputs": [
    {
     "data": {
      "text/plain": [
       "   Min. 1st Qu.  Median    Mean 3rd Qu.    Max. \n",
       "  2.900   5.250   6.700   7.494   9.750  12.400 "
      ]
     },
     "metadata": {},
     "output_type": "display_data"
    }
   ],
   "source": [
    "summary(a$UKFemale16_64)"
   ]
  },
  {
   "cell_type": "code",
   "execution_count": 26,
   "metadata": {},
   "outputs": [
    {
     "data": {
      "text/plain": [
       "   Min. 1st Qu.  Median    Mean 3rd Qu.    Max. \n",
       "   4.40    5.10    6.30    6.64    7.50   11.70 "
      ]
     },
     "metadata": {},
     "output_type": "display_data"
    }
   ],
   "source": [
    "summary(a$UKMale16_64)"
   ]
  },
  {
   "cell_type": "markdown",
   "metadata": {},
   "source": [
    "The minimum for all genders was 3.7%, compared to 2.9% for women and 4.4% for men. The 2.9% for women was in 1970s when unemployment was at record low, there could be many factors into this such as less women at work and actively looking for work as well as other cultural reasons. The females unemployment rate is on average higher than men's, as well as the maximum unemployment rate is higher for women than men's which is 12.4% and 11.7% respectively. \n",
    "\n",
    "Interquartile range for men was 2.4%, compared to 4.5% for women which is almost double than mens interquartile range for unemployment rates, this increases the evidence that employment is harder for women than compared to men in terms of who is actively looking for work. "
   ]
  },
  {
   "cell_type": "markdown",
   "metadata": {},
   "source": [
    "### Analysis of unemployment rates by ages between 1992-2018\n",
    "\n",
    "We will now look deeper into other factors such as age and see a more detailed picture. The data comes from UK_unemployment_age_groups.csv where the graphs are;\n",
    "- A; All 16-24 years olds actively looking for work [1992-2018]\n",
    "- B; All 25-34 years old actively looking for work [1992-2018]\n",
    "- C; All 35-49 years old actively looking for work [1992-2018]\n",
    "- D; All 50-64 years old actively looking for work [1992-2018]"
   ]
  },
  {
   "cell_type": "code",
   "execution_count": 27,
   "metadata": {},
   "outputs": [
    {
     "data": {
      "image/png": "[encoded data removed]",
      "text/plain": [
       "Plot with title \"D\""
      ]
     },
     "metadata": {},
     "output_type": "display_data"
    }
   ],
   "source": [
    "par(mfrow = c(2, 2))\n",
    "plot(b$X, b$UKAll16_24, col='grey', type=\"l\", xlab=\"Year\", ylab=\"Unemployment rate %\", main=\"A\" )\n",
    "plot(b$X, b$UKAll25_34, col='orange', type=\"l\", xlab=\"Year\", ylab=\"Unemployment rate %\", main=\"B\" )\n",
    "plot(b$X, b$UKAll35_49, col='blue', type=\"l\", xlab=\"Year\", ylab=\"Unemployment rate %\", main=\"C\" )\n",
    "plot(b$X, b$UKAll50_64, col='blue', type=\"l\", xlab=\"Year\", ylab=\"Unemployment rate %\", main=\"D\" )"
   ]
  },
  {
   "cell_type": "markdown",
   "metadata": {},
   "source": [
    "The unemployment rate between age groups show a very different picture, the unemployment rate for youth has been very high, compared to the rest which shows a general trend of the older you are, the more likely you are to be employed and could have a higher job security than compared to lower age group. \n",
    "\n",
    "During 1992 till 2000s the unemployment rates were sharply decreasing for all age groups except 16-25 year olds, this shows the difficulty for youth to gain employment than compared to other generations who all peaked in 1990s whereas 16-25 year olds peaked in 2010s. "
   ]
  },
  {
   "cell_type": "code",
   "execution_count": 28,
   "metadata": {},
   "outputs": [
    {
     "data": {
      "text/plain": [
       "   Min. 1st Qu.  Median    Mean 3rd Qu.    Max. \n",
       "  10.40   13.90   15.40   17.28   18.85   28.60 "
      ]
     },
     "metadata": {},
     "output_type": "display_data"
    }
   ],
   "source": [
    "summary(b$UKAll16_24)"
   ]
  },
  {
   "cell_type": "code",
   "execution_count": 29,
   "metadata": {},
   "outputs": [
    {
     "data": {
      "text/plain": [
       "   Min. 1st Qu.  Median    Mean 3rd Qu.    Max. \n",
       "  3.500   4.700   5.700   6.297   7.700  11.000 "
      ]
     },
     "metadata": {},
     "output_type": "display_data"
    }
   ],
   "source": [
    "summary(b$UKAll25_34)"
   ]
  },
  {
   "cell_type": "code",
   "execution_count": 31,
   "metadata": {},
   "outputs": [
    {
     "data": {
      "text/plain": [
       "   Min. 1st Qu.  Median    Mean 3rd Qu.    Max. \n",
       "  2.600   3.500   4.200   4.514   5.400   7.800 "
      ]
     },
     "metadata": {},
     "output_type": "display_data"
    }
   ],
   "source": [
    "summary(b$UKAll35_49)"
   ]
  },
  {
   "cell_type": "code",
   "execution_count": 32,
   "metadata": {},
   "outputs": [
    {
     "data": {
      "text/plain": [
       "   Min. 1st Qu.  Median    Mean 3rd Qu.    Max. \n",
       "  2.700   3.200   4.200   4.528   4.900   9.200 "
      ]
     },
     "metadata": {},
     "output_type": "display_data"
    }
   ],
   "source": [
    "summary(b$UKAll50_64)"
   ]
  },
  {
   "cell_type": "markdown",
   "metadata": {},
   "source": [
    "The summaries are showing the same general trend as shown above, where in general, the older you are the more likely you are to be employed, looking at the medians for an example, the median for 16-25 year olds for unemployment rates is 15.4% whereas its 5.7%, 4.2%, 4.2% for 25-34 year olds, 35-49 year olds and 50-64 year olds respectively. This means 16-25 year olds are almost 4 times more likely to be unemployed than compared to 50-64 year olds. "
   ]
  },
  {
   "cell_type": "markdown",
   "metadata": {},
   "source": [
    "### Conclusion\n",
    "\n",
    "In conclusion, women and youth are more likely to be unemployed than compared to older people and men which could have complicated factors, such as perhaps more women are actively looking for work in 16-25 year old leading to higher unemployment rates or higher immigration is leading to steep increase in unemployment rates among youth."
   ]
  }
 ],
 "metadata": {
  "kernelspec": {
   "display_name": "R",
   "language": "R",
   "name": "ir"
  },
  "language_info": {
   "codemirror_mode": "r",
   "file_extension": ".r",
   "mimetype": "text/x-r-source",
   "name": "R",
   "pygments_lexer": "r",
   "version": "3.6.0"
  }
 },
 "nbformat": 4,
 "nbformat_minor": 2
}
